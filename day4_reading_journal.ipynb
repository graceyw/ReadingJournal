{
 "cells": [
  {
   "cell_type": "markdown",
   "metadata": {},
   "source": [
    "# Day 4 Reading Journal\n",
    "\n",
    "This journal includes several required exercises, but it is meant to encourage active reading more generally.  You should use the journal to take detailed notes, catalog questions, and explore the content from Think Python deeply.\n",
    "\n",
    "Reading: Think Python Chapter 10\n",
    "\n",
    "**Due: Monday, January 30 at 12 noon**\n",
    "\n"
   ]
  },
  {
   "cell_type": "markdown",
   "metadata": {},
   "source": [
    "## [Chapter 10](http://www.greenteapress.com/thinkpython2/html/thinkpython2011.html)\n",
    "\n",
    "You may want to review [state diagrams in Chapter 2](http://greenteapress.com/thinkpython2/html/thinkpython2003.html). [Python Tutor](http://pythontutor.com/) is also helpful for visualizing the state of your program.\n",
    "\n"
   ]
  },
  {
   "cell_type": "markdown",
   "metadata": {},
   "source": [
    "### Exercise 10.3 \n",
    "Write a function called `middle` that takes a list and returns a new list that contains all but the first and last elements. So `middle([1,2,3,4])` should return `[2,3]`."
   ]
  },
  {
   "cell_type": "code",
   "execution_count": 2,
   "metadata": {
    "collapsed": false
   },
   "outputs": [
    {
     "data": {
      "text/plain": [
       "[2, 3]"
      ]
     },
     "execution_count": 2,
     "metadata": {},
     "output_type": "execute_result"
    }
   ],
   "source": [
    "def middle(items):\n",
    "    return items[1:-1]\n",
    "middle([1,2,3,4,])"
   ]
  },
  {
   "cell_type": "markdown",
   "metadata": {},
   "source": [
    "### Exercise 10.4 \n",
    "Write a function called `chop` that takes a list, modifies it by removing the first and last elements, and returns `None`.\n",
    "\n",
    "What is the difference between `middle` and `chop`? Sketch out the program state or take a look at each in Python Tutor and answer the question in the Markdown cell below."
   ]
  },
  {
   "cell_type": "code",
   "execution_count": 3,
   "metadata": {
    "collapsed": false
   },
   "outputs": [],
   "source": [
    "def chop(items):\n",
    "    new = items[1:-1]\n",
    "    return None\n",
    "chop([1,2,3,4])"
   ]
  },
  {
   "cell_type": "markdown",
   "metadata": {},
   "source": [
    "Middle and chop both do the same thing, but middle shows the results of the change made, while chop does not."
   ]
  },
  {
   "cell_type": "markdown",
   "metadata": {},
   "source": [
    "### Exercise 10.6 \n",
    "Two words are anagrams if you can rearrange the letters from one to spell the other. Write a function called `is_anagram` that takes two strings and returns `True` if they are anagrams.\n",
    "\n",
    "My first approach was to turn the strings into lists and then compare their elements individually. This didn't seem complicated to my human brain - but I soon discovered the computer thinks very differently than I do. When I got help from the wonderful NINJA Hannah and peer Colvin, I was englightened as to a different approach to solve the problem that would be simpler to translate to the computer: sorting the 2 lists alphabetically and checking that the results are the same.\n",
    "The working function is at the bottom, but I left the rest of the attempts to illustrate my process."
   ]
  },
  {
   "cell_type": "code",
   "execution_count": 4,
   "metadata": {
    "collapsed": false
   },
   "outputs": [
    {
     "data": {
      "text/plain": [
       "(['c', 'a', 'r'], ['r', 'a', 'c'])"
      ]
     },
     "execution_count": 4,
     "metadata": {},
     "output_type": "execute_result"
    }
   ],
   "source": [
    "def is_anagram(one,two):\n",
    "    S1 = one\n",
    "    L1 = list(S1)\n",
    "    S2 = two\n",
    "    L2 = list(S2)\n",
    "    if len(L1) != len(L2):\n",
    "        return False\n",
    "    return L1,L2\n",
    "is_anagram('car','rac')"
   ]
  },
  {
   "cell_type": "code",
   "execution_count": 5,
   "metadata": {
    "collapsed": false,
    "scrolled": false
   },
   "outputs": [
    {
     "data": {
      "text/plain": [
       "True"
      ]
     },
     "execution_count": 5,
     "metadata": {},
     "output_type": "execute_result"
    }
   ],
   "source": [
    "def is_anagram(one,two):\n",
    "    S1 = one\n",
    "    L1 = list(S1)\n",
    "    S2 = two\n",
    "    L2 = list(S2)\n",
    "    if L1 == L2:    #But wait! I want to compare \n",
    "                    #the characters in the lists, \n",
    "                    #regardless of their order.\n",
    "        return True\n",
    "is_anagram('car','car')"
   ]
  },
  {
   "cell_type": "code",
   "execution_count": 6,
   "metadata": {
    "collapsed": false,
    "scrolled": true
   },
   "outputs": [
    {
     "ename": "SyntaxError",
     "evalue": "invalid syntax (<ipython-input-6-b352fe5cde3e>, line 6)",
     "output_type": "error",
     "traceback": [
      "\u001b[0;36m  File \u001b[0;32m\"<ipython-input-6-b352fe5cde3e>\"\u001b[0;36m, line \u001b[0;32m6\u001b[0m\n\u001b[0;31m    for L1[0:]:\u001b[0m\n\u001b[0m              ^\u001b[0m\n\u001b[0;31mSyntaxError\u001b[0m\u001b[0;31m:\u001b[0m invalid syntax\n"
     ]
    }
   ],
   "source": [
    "def is_anagram(one,two):\n",
    "    S1 = one\n",
    "    L1 = list(S1)\n",
    "    S2 = two\n",
    "    L2 = list(S2)\n",
    "    for L1[0:]:\n",
    "        if L1[] = L2\n",
    "    if char in L1 == char in L2   # if same contents (order doesn't matter)\n",
    "is_anagram('car','rac')\n",
    "#...let's pivot towards another approach."
   ]
  },
  {
   "cell_type": "code",
   "execution_count": null,
   "metadata": {
    "collapsed": false
   },
   "outputs": [],
   "source": [
    "def is_anagram(one,two):\n",
    "    if sorted(one) == sorted(two):\n",
    "        return True\n",
    "    else:\n",
    "        return False\n",
    "is_anagram('car','rac')"
   ]
  },
  {
   "cell_type": "markdown",
   "metadata": {},
   "source": [
    "### Exercise 10.8  \n",
    "The (so-called) Birthday Paradox: <br /><br />\n",
    "1\\. Write a function called `has_duplicates` that takes a list and returns `True` if there is any element that appears more than once. It should not modify the original list.\n",
    "\n",
    "2\\. If there are 23 students in your class, what are the chances that two of you have the same birthday? Put your answer in the Markdown cell below. You can estimate this probability by generating random samples of 23 birthdays and checking for matches. Hint: you can generate random birthdays with the randint function from the [random module](https://docs.python.org/2/library/random.html).\n",
    "\n",
    "You can read about this problem at http://en.wikipedia.org/wiki/Birthday_paradox, and you can download Allen's solution from http://greenteapress.com/thinkpython2/code/birthday.py."
   ]
  },
  {
   "cell_type": "code",
   "execution_count": null,
   "metadata": {
    "collapsed": false
   },
   "outputs": [],
   "source": [
    "# This function returns duplicate items in list\n",
    "def has_duplicates(seq):\n",
    "  seen = set()\n",
    "  seen_add = seen.add # adds all elements it doesn't know yet to seen and all other to seen_twice\n",
    "  seen_twice = set( x for x in seq if x in seen or seen_add(x))  #turn the set into a list\n",
    "  return list( seen_twice )\n",
    "\n",
    "has_duplicates([1,2,3,2,1,5,6,5,5,5])\n",
    "\n",
    "# Learned from a post by user Ritesh Kumar on stackoverflow.com"
   ]
  },
  {
   "cell_type": "code",
   "execution_count": null,
   "metadata": {
    "collapsed": false
   },
   "outputs": [],
   "source": [
    "def has_duplicates(list):\n",
    "    import random\n",
    "    for student in range(n):\n",
    "        birthday = random.randint(1,365)\n",
    "        t.append(birthday)\n",
    "        return t"
   ]
  },
  {
   "cell_type": "markdown",
   "metadata": {},
   "source": [
    "When I got stuck on this one, I checked out Allen Downey's code and went through it step-by-step to make sure I understood what each function does."
   ]
  },
  {
   "cell_type": "code",
   "execution_count": null,
   "metadata": {
    "collapsed": false
   },
   "outputs": [],
   "source": [
    "import random\n",
    "\n",
    "def has_duplicates(t):\n",
    "    \"\"\"Returns True if any element appears more than once in a sequence.\n",
    "\n",
    "    t: list\n",
    "\n",
    "    returns: bool\n",
    "    \"\"\"\n",
    "    # make a copy of t to avoid modifying the parameter\n",
    "    s = t[:]\n",
    "    s.sort()\n",
    "\n",
    "    # check for adjacent elements that are equal\n",
    "    for i in range(len(s)-1):\n",
    "        if s[i] == s[i+1]:\n",
    "            return True\n",
    "    return False\n",
    "\n",
    "\n",
    "def random_bdays(n):\n",
    "    \"\"\"Returns a list of integers between 1 and 365, with length n.\n",
    "\n",
    "    n: int\n",
    "\n",
    "    returns: list of int\n",
    "    \"\"\"\n",
    "    t = []\n",
    "    for i in range(n):\n",
    "        bday = random.randint(1, 365)\n",
    "        t.append(bday)\n",
    "    return t\n",
    "\n",
    "\n",
    "def count_matches(num_students, num_simulations):\n",
    "    \"\"\"Generates a sample of birthdays and counts duplicates.\n",
    "\n",
    "    num_students: how many students in the group\n",
    "    num_samples: how many groups to simulate\n",
    "\n",
    "    returns: int\n",
    "    \"\"\"\n",
    "    count = 0\n",
    "    for i in range(num_simulations):\n",
    "        t = random_bdays(num_students)\n",
    "        if has_duplicates(t):\n",
    "            count += 1\n",
    "    return count\n",
    "\n",
    "\n",
    "def main():\n",
    "    \"\"\"Runs the birthday simulation and prints the number of matches.\"\"\"\n",
    "    num_students = 23\n",
    "    num_simulations = 1000\n",
    "    count = count_matches(num_students, num_simulations)\n",
    "\n",
    "    print('After %d simulations' % num_simulations)\n",
    "    print('with %d students' % num_students)\n",
    "    print('there were %d simulations with at least one match' % count)\n",
    "\n",
    "\n",
    "if __name__ == '__main__':\n",
    "    main()"
   ]
  },
  {
   "cell_type": "markdown",
   "metadata": {},
   "source": [
    "### Challenge: Exercise 10.10 (optional)\n",
    "\n",
    "You should read [Chapter 9.1](http://www.greenteapress.com/thinkpython2/html/thinkpython2010.html) and do Exercise 1 first.\n",
    "\n",
    "To check whether a word is in the word list, you could use the `in` operator, but it would be relatively slow because it searches through the words in order (try it).\n",
    "\n",
    "Because the words are in alphabetical order, we can speed things up with a bisection search (also known as binary search), which is similar to what you do when you look a word up in the dictionary. You start in the middle and check to see whether the word you are looking for comes before the word in the middle of the list. If so, then you search the first half of the list the same way. Otherwise you search the second half.\n",
    "\n",
    "Either way, you cut the remaining search space in half. If the word list has 113,809 words, it will take about 17 steps to find the word or conclude that it’s not there.\n",
    "\n",
    "Write a function called `bisect` that takes a sorted list and a target value and returns the index of the value in the list, if it’s there, or `None` if it’s not.\n",
    "\n",
    "Or you could read the documentation of the `bisect` module and use that! Solution: http://greenteapress.com/thinkpython2/code/inlist.py."
   ]
  },
  {
   "cell_type": "code",
   "execution_count": null,
   "metadata": {
    "collapsed": true
   },
   "outputs": [],
   "source": []
  },
  {
   "cell_type": "markdown",
   "metadata": {},
   "source": [
    "## Reading Journal feedback\n",
    "\n",
    "Have any comments on this Reading Journal? Feel free to leave them [here](https://goo.gl/forms/hZqCUAi4ir7hVN6x2) and we'll read them when you submit your journal entry. This could include suggestions to improve the exercises, topics you'd like to see covered in class next time, or other feedback.\n",
    "\n",
    "If you have Python questions or run into problems while completing the reading, you should post them to Piazza instead so you can get a quick response before your journal is submitted."
   ]
  },
  {
   "cell_type": "markdown",
   "metadata": {},
   "source": [
    "Spent about 20 minutes on the first 2 functions and 2.5 hours on the 3rd and 4th, reading, researching and learning along the way."
   ]
  }
 ],
 "metadata": {
  "kernelspec": {
   "display_name": "Python 3",
   "language": "python",
   "name": "python3"
  },
  "language_info": {
   "codemirror_mode": {
    "name": "ipython",
    "version": 3
   },
   "file_extension": ".py",
   "mimetype": "text/x-python",
   "name": "python",
   "nbconvert_exporter": "python",
   "pygments_lexer": "ipython3",
   "version": "3.5.2"
  }
 },
 "nbformat": 4,
 "nbformat_minor": 0
}
