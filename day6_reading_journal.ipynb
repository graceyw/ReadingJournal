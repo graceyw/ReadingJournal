{
 "cells": [
  {
   "cell_type": "markdown",
   "metadata": {},
   "source": [
    "# Day 6 Reading Journal\n",
    "\n",
    "This journal includes several required exercises, but it is meant to encourage active reading more generally.  You should use the journal to take detailed notes, catalog questions, and explore the content from Think Python deeply.\n",
    "\n",
    "Reading: Think Python Chapter 5.8-5.14, 6.5-6.11\n",
    "\n",
    "**Due: Monday, February 6 at 12 noon**\n",
    "\n"
   ]
  },
  {
   "cell_type": "markdown",
   "metadata": {},
   "source": [
    "## [Chapter 5.8 - 5.14](http://www.greenteapress.com/thinkpython2/html/thinkpython2006.html)\n",
    "\n",
    "[Python Tutor](http://pythontutor.com/) can be helpful for visualizing stack diagrams, including for recursive execution.\n",
    "\n",
    "Chapter 5 leads into Chapter 6, and all the required exercises for this reading are in the Chapter 6 section.\n",
    "\n"
   ]
  },
  {
   "cell_type": "code",
   "execution_count": 19,
   "metadata": {
    "collapsed": false
   },
   "outputs": [
    {
     "data": {
      "text/plain": [
       "'x is divisible by y'"
      ]
     },
     "execution_count": 19,
     "metadata": {},
     "output_type": "execute_result"
    }
   ],
   "source": [
    "# Just practicing one of mentioned functions\n",
    "def divisible(x,y):\n",
    "    if x % y == 0:\n",
    "        return 'x is divisible by y'\n",
    "    else:\n",
    "        return 'x is not divisible by y'\n",
    "divisible(5,5)"
   ]
  },
  {
   "cell_type": "markdown",
   "metadata": {},
   "source": [
    "## [Chapter 6.5 - 6.11](http://www.greenteapress.com/thinkpython2/html/thinkpython2007.html)"
   ]
  },
  {
   "cell_type": "markdown",
   "metadata": {
    "is_question": true,
    "problem": "Exercise 6.4"
   },
   "source": [
    "### Exercise 6.1  \n",
    "\n",
    "Draw a stack diagram for the following program. What does the program print? \n",
    "\n",
    "You can do this on paper or using [Python Tutor](http://pythontutor.com/)\n",
    "\n",
    "\n",
    "### So Python Tutor shows me step-by-step the computer's process for analyzing the code I write. I imagine this could be very helpful not only while I'm learning how the computer thinks in these beginning stages, but also in certain debugging senarios, when I don't understand what's going wrong."
   ]
  },
  {
   "cell_type": "code",
   "execution_count": 14,
   "metadata": {
    "collapsed": false,
    "solution": "Exercise 6.4"
   },
   "outputs": [
    {
     "name": "stdout",
     "output_type": "stream",
     "text": [
      "9 90\n",
      "8100\n"
     ]
    }
   ],
   "source": [
    "def b(z):\n",
    "    prod = a(z, z)\n",
    "    print(z, prod)     # prints input to b, and (z + 1) * y\n",
    "    return prod        # prints (z + 1) * y\n",
    "\n",
    "def a(x, y):\n",
    "    x = x + 1\n",
    "    return x * y       # prints (x + 1) * y so (1 + 1) * 2 so 4\n",
    "\n",
    "def c(x, y, z):\n",
    "    total = x + y + z\n",
    "    square = b(total)**2\n",
    "    return square        # prints ()\n",
    "\n",
    "x = 1\n",
    "y = x + 1\n",
    "print(c(x, y+3, x+y))\n",
    "\n",
    "#                                   c(1, 5, 3)   \n",
    "#                                   b(x + y + z)^2\n",
    "#                                   b(9) = print (9, a(9,9))\n",
    "#               and also return     a(9,9) = 90\n",
    "#                            return 10 * 9 = 90\n",
    "# SO IN THE END, I think it will print the return statement in a, \n",
    "# the print statement in b, the return statement in b, and the \n",
    "# final return statement in c:\n",
    "    # 90\n",
    "    # 9,90 \n",
    "    # 90\n",
    "    # 8100"
   ]
  },
  {
   "cell_type": "markdown",
   "metadata": {},
   "source": [
    "Looks like I got it mostly right simply by thinking it through. My only error was thinking that the return statements in a and b would actually print values. Turns out it only prints the print statement in b and the final (or first, if you look at it the way the computer does) print statement: print(c(x, y+3, x+y))\n",
    "\n",
    "After thinking it through by brain and hand, I ran it through Python Tutor to make sure I was thinking about it the way the computer would. Looked pretty good!"
   ]
  },
  {
   "cell_type": "markdown",
   "metadata": {
    "is_question": true,
    "problem": "Exercise 6.6"
   },
   "source": [
    "### Exercise 6.3  \n",
    "\n",
    "A palindrome is a word that is spelled the same backward and forward, like “noon” and “redivider”. Recursively, a word is a palindrome if the first and last letters are the same and the middle is a palindrome.\n",
    "\n",
    "You can use the `first`, `last`, and `middle` helper functions defined in Think Python, or do the string slices inside your function directly. Be sure to think about your base cases.\n",
    "    \n",
    "Write a function called `is_palindrome` that takes a string argument and returns `True` if it is a palindrome and `False` otherwise. Remember that you can use the built-in function `len` to check the length of a string.\n",
    "\n",
    "Write some unit tests for your function (optionally using doctest) to show that it works as intended."
   ]
  },
  {
   "cell_type": "code",
   "execution_count": 7,
   "metadata": {
    "collapsed": false,
    "solution": "Exercise 6.6"
   },
   "outputs": [
    {
     "data": {
      "text/plain": [
       "True"
      ]
     },
     "execution_count": 7,
     "metadata": {},
     "output_type": "execute_result"
    }
   ],
   "source": [
    "'''I want the function to examine the first and last letters \n",
    "starting on the outside, checking that they're the same letter. \n",
    "If they are the same letter, the fuction should then examine \n",
    "the next inner layer of \"first and last\" (arg[2] and arg[-2]) \n",
    "and check that those are the same, and continue this till it's\n",
    "out of letters (and sure that they're all the same). If they\n",
    "are indeed all the same, the function should return \"True.\"\n",
    "If at any point in the process 2 letters don't match up, the \n",
    "function should return \"False\".\n",
    "\n",
    "First I'll try it with a for loop:'''\n",
    "\n",
    "def is_palindrome(arg):\n",
    "    length = len(arg)\n",
    "    for i in range(length):\n",
    "        if arg[i] != arg[-1-i]:\n",
    "            return False\n",
    "    else:\n",
    "        return True\n",
    "is_palindrome('noon')"
   ]
  },
  {
   "cell_type": "code",
   "execution_count": 20,
   "metadata": {
    "collapsed": false
   },
   "outputs": [
    {
     "data": {
      "text/plain": [
       "True"
      ]
     },
     "execution_count": 20,
     "metadata": {},
     "output_type": "execute_result"
    }
   ],
   "source": [
    "'''Now I'll try it using a recursive function'''\n",
    "def is_palindrome(arg):\n",
    "    if len(arg) <= 2:\n",
    "        if arg[0] != arg[-1]:\n",
    "            return False\n",
    "        else:\n",
    "            return True\n",
    "    else:\n",
    "        if arg[0] == arg[-1]:\n",
    "            return is_palindrome(arg[1:-1])\n",
    "        else:\n",
    "            return False\n",
    "is_palindrome('noon')"
   ]
  },
  {
   "cell_type": "markdown",
   "metadata": {
    "is_question": true,
    "problem": "Exercise 6.6 challenge"
   },
   "source": [
    "### Challenge (optional)\n",
    "\n",
    "Use the word list from [Chapter 9.1](http://www.greenteapress.com/thinkpython2/html/thinkpython2010.html) Exercise 1 to find all of the palindromes."
   ]
  },
  {
   "cell_type": "code",
   "execution_count": null,
   "metadata": {
    "collapsed": true,
    "solution": "Exercise 6.6 challenge"
   },
   "outputs": [],
   "source": []
  },
  {
   "cell_type": "markdown",
   "metadata": {
    "is_question": true,
    "problem": "Exercise 6.7"
   },
   "source": [
    "### Exercise 6.4  \n",
    "\n",
    "A number `a` is a power of `b` if it is divisible by `b` and `a/b` is a power of `b`. Write a function called `is_power` that takes parameters `a` and `b` and returns `True` if `a` is a power of `b`. Note: you will have to think about the base case."
   ]
  },
  {
   "cell_type": "code",
   "execution_count": 42,
   "metadata": {
    "collapsed": false,
    "solution": "Exercise 6.7"
   },
   "outputs": [
    {
     "name": "stdout",
     "output_type": "stream",
     "text": [
      "True\n",
      "False\n",
      "False\n",
      "False\n"
     ]
    }
   ],
   "source": [
    "def is_power(a,b):\n",
    "    if b == 1:\n",
    "        return False\n",
    "    if b == 0:\n",
    "        return False\n",
    "    if a <= b:\n",
    "        if a % b == 0:\n",
    "            return True          # then a is divisible by b\n",
    "        else:\n",
    "            return False\n",
    "    else:\n",
    "        return is_power(a/b,b)\n",
    "print(is_power(4,2))\n",
    "print(is_power(4,1))\n",
    "print(is_power(25,2))\n",
    "print(is_power(4,0))"
   ]
  },
  {
   "cell_type": "markdown",
   "metadata": {
    "is_question": true,
    "problem": "Exercise 6.8"
   },
   "source": [
    "### Challenge (optional) - Exercise 6.5  \n",
    "\n",
    "The greatest common divisor (GCD) of `a` and `b` is the largest number that divides both of them with no remainder.\n",
    "\n",
    "One way to find the GCD of two numbers is based on the observation that if `r` is the remainder when `a` is divided by `b`, then `gcd(a, b) = gcd(b, r)`. As a base case, we can use `gcd(a, 0) = a`.\n",
    "\n",
    "Write a function called `gcd` that takes parameters `a` and `b` and returns their greatest common divisor."
   ]
  },
  {
   "cell_type": "code",
   "execution_count": null,
   "metadata": {
    "collapsed": true,
    "problem": "Exercise 6.8"
   },
   "outputs": [],
   "source": []
  },
  {
   "cell_type": "markdown",
   "metadata": {},
   "source": [
    "## Reading Journal feedback\n",
    "\n",
    "[Please complete this short survey](https://docs.google.com/forms/d/e/1FAIpQLScQekhUrf6YYjpfQiAAbavLIA-IJklv_PX1BWbGgxj7JPolmw/viewform?c=0&w=1)\n",
    "\n",
    "If you have any comments on this Reading Journal, feel free to leave them in the survey linked above. This could include suggestions to improve the exercises, topics you'd like to see covered in class next time, or other feedback.\n",
    "\n",
    "If you have Python questions or run into problems while completing the reading, you should post them to Piazza instead so you can get a quick response before your journal is submitted."
   ]
  },
  {
   "cell_type": "markdown",
   "metadata": {
    "feedback_response": true
   },
   "source": [
    " "
   ]
  }
 ],
 "metadata": {
  "kernelspec": {
   "display_name": "Python 3",
   "language": "python",
   "name": "python3"
  },
  "language_info": {
   "codemirror_mode": {
    "name": "ipython",
    "version": 3
   },
   "file_extension": ".py",
   "mimetype": "text/x-python",
   "name": "python",
   "nbconvert_exporter": "python",
   "pygments_lexer": "ipython3",
   "version": "3.5.2"
  }
 },
 "nbformat": 4,
 "nbformat_minor": 0
}
