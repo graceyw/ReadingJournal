{
 "cells": [
  {
   "cell_type": "markdown",
   "metadata": {},
   "source": [
    "# Day 9 Reading Journal\n",
    "\n",
    "This journal includes several required exercises, but it is meant to encourage active reading more generally.  You should use the journal to take detailed notes, catalog questions, and explore the content from Think Python deeply.\n",
    "\n",
    "Reading: Think Python Chapter 16, 17\n",
    "\n",
    "**Due: Wednesday, February 22 at 12 noon**\n",
    "\n"
   ]
  },
  {
   "cell_type": "markdown",
   "metadata": {},
   "source": [
    "## [Chapter 16](http://www.greenteapress.com/thinkpython2/html/thinkpython2017.html)\n"
   ]
  },
  {
   "cell_type": "markdown",
   "metadata": {
    "is_question": true,
    "problem": "Exercise 16.2"
   },
   "source": [
    "### Chapter 16.1\n",
    "\n",
    "Write a boolean function called `is_after` that takes two `Time` objects, `t1` and `t2`, and returns `True` if `t1` follows `t2` chronologically and `False` otherwise. Challenge: don’t use an `if` statement. "
   ]
  },
  {
   "cell_type": "code",
   "execution_count": 9,
   "metadata": {
    "collapsed": false,
    "solution": "Exercise 16.2"
   },
   "outputs": [
    {
     "name": "stdout",
     "output_type": "stream",
     "text": [
      "False\n"
     ]
    }
   ],
   "source": [
    "class Time:\n",
    "    ''' Object that states time of day.\n",
    "    Attributes: hour, minute, second. '''\n",
    "    \n",
    "    def __init__(self, hour, minute, second, isAM):\n",
    "        self.hour = hour\n",
    "        self.minute = minute\n",
    "        self.second = second\n",
    "        self.isAM = isAM\n",
    "        \n",
    "def is_after(t1,t2):\n",
    "    '''\n",
    "    Takes two Time objects t1 and t2\n",
    "    Returns True if t1 follows t2 chronologically and False otherwise.\n",
    "    \n",
    "    What does \"chronologically follows\" mean? \n",
    "    For the purposes of this function, t1 \"chronologically follows\" t2 \n",
    "    if t1 comes less than 12 hours after t2.\n",
    "    \n",
    "    Addendum: I had some trouble with finishing the logic of this function to ensure it \n",
    "    gives accurate output for each possible t1 and t2. However because I was able to practice \n",
    "    writing classes and operating with them, I chose to table the completion of this function.\n",
    "    '''\n",
    "    hour1 = t1.hour\n",
    "    hour2 = t2.hour\n",
    "    \n",
    "    if t1.isAM and not t2.isAM:              # Boolean: if t1 is AM and also t2 is PM\n",
    "        hour2 += 12                          # then make t2 in 24 hr time\n",
    "    if t2.isAM and not t1.isAM:              # Boolean: if t2 is AM and also t1 is PM\n",
    "        hour1 +=12                           # then make t1 in 24 hr time\n",
    "    if hour1 - hour2 < 12:\n",
    "        return False                         # t2 comes after t1\n",
    "    elif hour1 - hour2 > 12:\n",
    "        return True                          # t1 comes after t2\n",
    "    else:\n",
    "        return False                         # t1 and t2 are the same time or 12 hours apart\n",
    "\n",
    "t2 = Time(11, 40, 22, True)            # 11:40am\n",
    "t1 = Time(2, 59, 30, False)            # 2:59pm\n",
    "\n",
    "print(is_after(t1, t2))"
   ]
  },
  {
   "cell_type": "markdown",
   "metadata": {},
   "source": [
    "## [Chapter 17](http://www.greenteapress.com/thinkpython2/html/thinkpython2018.html)\n",
    "\n",
    "In chapter 17 we finally have the tools to really put user-defined classes to work! In the exercises for this reading journal, we'll go back and add methods to your `Point` class from Chapter 15 to make it a lot easier to use."
   ]
  },
  {
   "cell_type": "markdown",
   "metadata": {
    "is_question": true,
    "problem": "Exercise 17.2"
   },
   "source": [
    "### Chapter 17.5\n",
    "\n",
    "Write an init method for the `Point` class that takes `x` and `y` as optional parameters and assigns them to the corresponding attributes. "
   ]
  },
  {
   "cell_type": "code",
   "execution_count": 18,
   "metadata": {
    "collapsed": false,
    "solution": "Exercise 17.2"
   },
   "outputs": [
    {
     "name": "stdout",
     "output_type": "stream",
     "text": [
      "2\n"
     ]
    }
   ],
   "source": [
    "class Point:\n",
    "    \"\"\"Represents a point in 2-D space.\"\"\"\n",
    "    def __init__(self,x=0,y=0):\n",
    "        self.x = x\n",
    "        self.y = y\n",
    "p1 = Point(2,3)\n",
    "print(p1.x)"
   ]
  },
  {
   "cell_type": "markdown",
   "metadata": {
    "is_question": true,
    "problem": "Exercise 17.3"
   },
   "source": [
    "### Chapter 17.6 \n",
    "\n",
    "Write a str method for the `Point` class. Create a `Point` object and print it."
   ]
  },
  {
   "cell_type": "code",
   "execution_count": 22,
   "metadata": {
    "collapsed": false,
    "solution": "Exercise 17.3"
   },
   "outputs": [
    {
     "name": "stdout",
     "output_type": "stream",
     "text": [
      "(2,1)\n"
     ]
    }
   ],
   "source": [
    "class Point:\n",
    "    \"\"\"Represents a point in 2-D space.\"\"\"\n",
    "    def __init__(self,x=0,y=0):\n",
    "        self.x = x\n",
    "        self.y = y\n",
    "\n",
    "    def __str__(self):\n",
    "        return '(%.d,%.d)' % (self.x, self.y)\n",
    "p1 = Point(2,1)\n",
    "print(p1)"
   ]
  },
  {
   "cell_type": "markdown",
   "metadata": {
    "is_question": true,
    "problem": "Exercise 17.4"
   },
   "source": [
    "### Chapter 17.7  \n",
    "\n",
    "Write an add method for the `Point` class. Optional: implement operator overloading so that you can use the '+' operator."
   ]
  },
  {
   "cell_type": "code",
   "execution_count": 33,
   "metadata": {
    "collapsed": false,
    "solution": "Exercise 17.4"
   },
   "outputs": [
    {
     "name": "stdout",
     "output_type": "stream",
     "text": [
      "(3,3)\n"
     ]
    }
   ],
   "source": [
    "class Point:\n",
    "    \"\"\"Represents a point in 2-D space.\"\"\"\n",
    "    def __init__(self,x=0,y=0):\n",
    "        self.x = x\n",
    "        self.y = y\n",
    "\n",
    "    def __str__(self):\n",
    "        return '(%.d,%.d)' % (self.x, self.y)\n",
    "\n",
    "    def __add__(self, p2):\n",
    "        new_x = self.x + p2.x\n",
    "        new_y = self.y + p2.y\n",
    "        p3 = Point(new_x,new_y)\n",
    "        return p3\n",
    "\n",
    "p1 = Point(1,1)\n",
    "p2 = Point(2,2)\n",
    "print(p1 + p2)"
   ]
  },
  {
   "cell_type": "markdown",
   "metadata": {
    "is_question": true,
    "problem": "Exercise 17.7"
   },
   "source": [
    "### Exercise 17.2\n",
    "\n",
    "This exercise is a cautionary tale about one of the most common, and difficult to find, errors in Python. Write a definition for a class named `Kangaroo` with the following methods:\n",
    "\n",
    " 1. An `__init__` method that initializes an attribute named `pouch_contents` to an empty list.\n",
    " 2. A method named `put_in_pouch` that takes an object of any type and adds it to `pouch_contents`.\n",
    " 3. A `__str__` method that returns a string representation of the `Kangaroo` object and the contents of the pouch.\n",
    "\n",
    "Test your code by creating two `Kangaroo` objects, assigning them to variables named `kanga` and `roo`, and then adding `roo` to the contents of `kanga`’s pouch."
   ]
  },
  {
   "cell_type": "code",
   "execution_count": 46,
   "metadata": {
    "collapsed": false,
    "solution": "Exercise 17.7"
   },
   "outputs": [
    {
     "name": "stdout",
     "output_type": "stream",
     "text": [
      "['roo']\n"
     ]
    }
   ],
   "source": [
    "class Kangaroo:\n",
    "    def __init__(self):\n",
    "        '''Initializes an empty list pouch_contents'''\n",
    "        self.pouch_contents = []\n",
    "\n",
    "    def put_in_pouch(self,thing):\n",
    "        self.pouch_contents.append(thing)\n",
    "    \n",
    "    def __str__(self):\n",
    "        '''Returns a string representation of the Kangaroo object and the pouch contents'''\n",
    "        return str(self.pouch_contents)\n",
    "kanga = Kangaroo()\n",
    "roo = Kangaroo()\n",
    "\n",
    "kanga.put_in_pouch('roo')\n",
    "print(kanga)"
   ]
  },
  {
   "cell_type": "markdown",
   "metadata": {},
   "source": [
    "Download http://greenteapress.com/thinkpython2/code/BadKangaroo.py. It contains a solution to the previous problem with one big, nasty bug. Find and fix the bug.\n",
    "\n",
    "If you get stuck, you can download http://greenteapress.com/thinkpython2/code/GoodKangaroo.py, which explains the problem and demonstrates a solution. "
   ]
  },
  {
   "cell_type": "markdown",
   "metadata": {
    "poll_response": true,
    "solution": "Time spent"
   },
   "source": [
    " "
   ]
  },
  {
   "cell_type": "code",
   "execution_count": 58,
   "metadata": {
    "collapsed": false
   },
   "outputs": [
    {
     "name": "stdout",
     "output_type": "stream",
     "text": [
      "Kanga has pouch contents:\n",
      "    'wallet'\n",
      "    'car keys'\n",
      "    <__main__.Kangaroo object at 0x7f8a6c552208>\n",
      "Roo has pouch contents:\n"
     ]
    }
   ],
   "source": [
    "from __future__ import print_function, division\n",
    "\n",
    "class Kangaroo:\n",
    "    \"\"\"A Kangaroo is a marsupial.\"\"\"\n",
    "    \n",
    "#     def __init__(self, name, contents=[]):      # the bug is in the default-value initialization of contents\n",
    "#         \"\"\"Initialize the pouch contents.\n",
    "\n",
    "#         name: string\n",
    "#         contents: initial pouch contents.\n",
    "#         \"\"\"\n",
    "#         self.name = name\n",
    "#         self.pouch_contents = contents\n",
    "\n",
    "        # The problem is the default value for contents.\n",
    "        # Default values get evaluated ONCE, when the function\n",
    "        # is defined; they don't get evaluated again when the\n",
    "        # function is called.\n",
    "\n",
    "        # In this case that means that when __init__ is defined,\n",
    "        # [] gets evaluated and contents gets a reference to\n",
    "        # an empty list.\n",
    "\n",
    "        # After that, every Kangaroo that gets the default\n",
    "        # value gets a reference to THE SAME list.  If any\n",
    "        # Kangaroo modifies this shared list, they all see\n",
    "        # the change.\n",
    "        \n",
    "    '''FIXED INITIALIZATION BELOW'''\n",
    "        \n",
    "    def __init__(self, name, contents=None):\n",
    "        \"\"\"Initialize the pouch contents.\n",
    "\n",
    "        name: string\n",
    "        contents: initial pouch contents.\n",
    "        \"\"\"\n",
    "        # In this version, the default value is None.  When\n",
    "        # __init__ runs, it checks the value of contents and,\n",
    "        # if necessary, creates a new empty list.  That way,\n",
    "        # every Kangaroo that gets the default value gets a\n",
    "        # reference to a different list.\n",
    "\n",
    "        # As a general rule, you should avoid using a mutable\n",
    "        # object as a default value, unless you really know\n",
    "        # what you are doing.\n",
    "        \n",
    "        self.name = name\n",
    "        if contents == None:\n",
    "            contents = []\n",
    "        self.pouch_contents = contents\n",
    "\n",
    "    def __str__(self):\n",
    "        \"\"\"Return a string representaion of this Kangaroo.\n",
    "        \"\"\"\n",
    "        t = [ self.name + ' has pouch contents:' ]\n",
    "        for obj in self.pouch_contents:\n",
    "            s = '    ' + object.__str__(obj)\n",
    "            t.append(s)\n",
    "        return '\\n'.join(t)\n",
    "\n",
    "    def put_in_pouch(self, item):\n",
    "        \"\"\"Adds a new item to the pouch contents.\n",
    "\n",
    "        item: object to be added\n",
    "        \"\"\"\n",
    "        self.pouch_contents.append(item)\n",
    "\n",
    "kanga = Kangaroo('Kanga')\n",
    "roo = Kangaroo('Roo')\n",
    "kanga.put_in_pouch('wallet')\n",
    "kanga.put_in_pouch('car keys')\n",
    "kanga.put_in_pouch(roo)\n",
    "\n",
    "print(kanga)\n",
    "print(roo)"
   ]
  },
  {
   "cell_type": "markdown",
   "metadata": {
    "is_question": true,
    "problem": "Feedback"
   },
   "source": [
    "## Reading Journal feedback\n",
    "\n",
    "[Please complete this short survey](https://docs.google.com/forms/d/e/1FAIpQLScQekhUrf6YYjpfQiAAbavLIA-IJklv_PX1BWbGgxj7JPolmw/viewform?c=0&w=1)\n",
    "\n",
    "If you have any comments on this Reading Journal, feel free to leave them in the survey linked above. This could include suggestions to improve the exercises, topics you'd like to see covered in class next time, or other feedback.\n",
    "\n",
    "If you have Python questions or run into problems while completing the reading, you should post them to Piazza instead so you can get a quick response before your journal is submitted."
   ]
  },
  {
   "cell_type": "markdown",
   "metadata": {
    "feedback_response": true,
    "solution": "Feedback"
   },
   "source": [
    " "
   ]
  }
 ],
 "metadata": {
  "anaconda-cloud": {},
  "kernelspec": {
   "display_name": "Python 3",
   "language": "python",
   "name": "python3"
  },
  "language_info": {
   "codemirror_mode": {
    "name": "ipython",
    "version": 3
   },
   "file_extension": ".py",
   "mimetype": "text/x-python",
   "name": "python",
   "nbconvert_exporter": "python",
   "pygments_lexer": "ipython3",
   "version": "3.5.2"
  }
 },
 "nbformat": 4,
 "nbformat_minor": 0
}
